{
 "cells": [
  {
   "cell_type": "code",
   "execution_count": 1,
   "metadata": {
    "collapsed": false,
    "slideshow": {
     "slide_type": "slide"
    }
   },
   "outputs": [
    {
     "name": "stderr",
     "output_type": "stream",
     "text": [
      "/Applications/anaconda/lib/python3.6/site-packages/sklearn/cross_validation.py:44: DeprecationWarning: This module was deprecated in version 0.18 in favor of the model_selection module into which all the refactored classes and functions are moved. Also note that the interface of the new CV iterators are different from that of this module. This module will be removed in 0.20.\n",
      "  \"This module will be removed in 0.20.\", DeprecationWarning)\n"
     ]
    }
   ],
   "source": [
    "import numpy as np\n",
    "import pandas as pd\n",
    "import tensorflow as tf\n",
    "from sklearn.model_selection import train_test_split\n",
    "from sklearn.metrics import mean_absolute_error\n",
    "from xgboost import XGBRegressor\n",
    "from warnings import filterwarnings\n",
    "filterwarnings('ignore')\n",
    "import matplotlib.pyplot as plt"
   ]
  },
  {
   "cell_type": "code",
   "execution_count": 2,
   "metadata": {
    "collapsed": true,
    "slideshow": {
     "slide_type": "slide"
    }
   },
   "outputs": [],
   "source": [
    "#Chosen baseline features\n",
    "features = ['precipitation_amt_mm', \n",
    "            'reanalysis_avg_temp_k', \n",
    "            'station_diur_temp_rng_c',\n",
    "            'reanalysis_relative_humidity_percent', \n",
    "            'reanalysis_tdtr_k']"
   ]
  },
  {
   "cell_type": "code",
   "execution_count": 3,
   "metadata": {
    "collapsed": true,
    "slideshow": {
     "slide_type": "slide"
    }
   },
   "outputs": [],
   "source": [
    "data = pd.read_csv('./dengue_features_train.csv', index_col=[0,1,2,3])\n",
    "labels = pd.read_csv('./dengue_labels_train.csv', index_col=[0,1,2])"
   ]
  },
  {
   "cell_type": "code",
   "execution_count": 4,
   "metadata": {
    "collapsed": false,
    "slideshow": {
     "slide_type": "slide"
    }
   },
   "outputs": [],
   "source": [
    "sj_features = data.loc['sj']\n",
    "iq_features = data.loc['iq']\n",
    "sj_labels = labels.loc['sj']\n",
    "iq_labels = labels.loc['iq']\n",
    "\n",
    "sj_features.fillna(method='ffill', inplace=True)\n",
    "iq_features.fillna(method='ffill', inplace=True)"
   ]
  },
  {
   "cell_type": "code",
   "execution_count": 5,
   "metadata": {
    "collapsed": false,
    "slideshow": {
     "slide_type": "slide"
    }
   },
   "outputs": [],
   "source": [
    "#interpolate features to prevent bias\n",
    "sj_features = sj_features.interpolate()\n",
    "iq_features = iq_features.interpolate()\n",
    "\n",
    "sj_features = sj_features[features].values\n",
    "iq_features = iq_features[features].values"
   ]
  },
  {
   "cell_type": "code",
   "execution_count": 6,
   "metadata": {
    "collapsed": true,
    "slideshow": {
     "slide_type": "slide"
    }
   },
   "outputs": [],
   "source": [
    "sj_labels = sj_labels.values\n",
    "iq_labels = iq_labels.values"
   ]
  },
  {
   "cell_type": "code",
   "execution_count": 7,
   "metadata": {
    "collapsed": true,
    "slideshow": {
     "slide_type": "slide"
    }
   },
   "outputs": [],
   "source": [
    "#read in test features\n",
    "test_features = pd.read_csv('./dengue_features_test.csv', index_col=[0,1,2,3])\n",
    "test_features.fillna(method='ffill', inplace=True)\n",
    "sj_test = test_features.loc['sj']\n",
    "iq_test = test_features.loc['iq']\n",
    "\n",
    "sj_test = sj_test.interpolate()\n",
    "iq_test = iq_test.interpolate()\n",
    "\n",
    "sj_test = sj_test[features].values\n",
    "iq_test = iq_test[features].values"
   ]
  },
  {
   "cell_type": "code",
   "execution_count": 8,
   "metadata": {
    "collapsed": false,
    "slideshow": {
     "slide_type": "slide"
    }
   },
   "outputs": [
    {
     "data": {
      "text/plain": [
       "20.616452991452991"
      ]
     },
     "execution_count": 8,
     "metadata": {},
     "output_type": "execute_result"
    }
   ],
   "source": [
    "#XGBoost Regressor on SJ data, using all features\n",
    "sj_model = XGBRegressor()\n",
    "sj_model.fit(sj_features, sj_labels)\n",
    "sj_train_pred = sj_model.predict(sj_features)\n",
    "sj_train_pred = sj_train_pred.astype(int)\n",
    "sj_score = mean_absolute_error(sj_train_pred, sj_labels)\n",
    "sj_score\n"
   ]
  },
  {
   "cell_type": "code",
   "execution_count": 9,
   "metadata": {
    "collapsed": false,
    "slideshow": {
     "slide_type": "slide"
    }
   },
   "outputs": [
    {
     "data": {
      "text/plain": [
       "array([ 25,  10,  34,  18,  36,  33,  60,  35,  31,  38,  29,  29,  33,\n",
       "        36,  91,  37,  29,  47,  44,  76,  41,  29,  33,  30,  30,  12,\n",
       "        41,  26,  17,  28,  17,  17,  26,  21,  14,  14,   8,  30,   8,\n",
       "        32,  10,  22,   8,  10,  25,  12,  19,   7,   9,   7,  10,  15,\n",
       "        19,   4,  20,  19,   9,  24,  25,  28,  33,  30,  40,  22,  29,\n",
       "        42,  32,  37,  35,  25,  34,  36,  29,  36,  43,  52,  44,  27,\n",
       "        33,  34,  35,  35,  30,  31,  30,  27,  18,  18,  21,  23,  45,\n",
       "         9,  24,  19,  23,  23,  33,  11,  10,  28,  32,  11,  12,  17,\n",
       "        15,  20,  33,  26,  38,  89,  54,  41,  36, 138,  32,  45,  85,\n",
       "        31,  93,  35,  47,  46,  30,  86,  48,  33,  43,  32, 100,  37,\n",
       "        54,  24,  23,  11,  23,  23,  14,  25,   6,   8,  53,  23,  21,\n",
       "        34,  12,  13,  13,  21,  15,   6,  15,  11,  20,  48,  15,  20,\n",
       "         7,  13,   9,  28,  53,  31,  30,  57, 124,  64,  50,  98,  41,\n",
       "        98,  39,  86,  35,  86,  29,  44,  48,  36,  34,  48,  41,  43,\n",
       "        22,  34,  41,  35,  20,  10,  17,  33,  16,  17,  29,  28,  18,\n",
       "        24,  12,  17,  17,  28,  14,  15,   6,  17,  19,  25,  21,  27,\n",
       "         7,  26,  20,  40,  61,  16,  30,  27,  39,  45,  31,  40,  47,\n",
       "        44,  37,  31,  41,  43,  39,  36,  34,  32,  87,  49,  35,  43,\n",
       "        55,  42,  38,  30,  43,  63,  32,  22,  40,  26,  17,  25,  11,\n",
       "        18,  10,  11,  12,   8,   9,  22,   9,  33,   6,  26,  21,  30])"
      ]
     },
     "execution_count": 9,
     "metadata": {},
     "output_type": "execute_result"
    }
   ],
   "source": [
    "#Predict on test features\n",
    "sj_pred = sj_model.predict(sj_test)\n",
    "sj_pred = sj_pred.astype(int)\n",
    "sj_pred"
   ]
  },
  {
   "cell_type": "code",
   "execution_count": 10,
   "metadata": {
    "collapsed": false,
    "slideshow": {
     "slide_type": "slide"
    }
   },
   "outputs": [
    {
     "data": {
      "text/plain": [
       "4.2846153846153845"
      ]
     },
     "execution_count": 10,
     "metadata": {},
     "output_type": "execute_result"
    }
   ],
   "source": [
    "#XGBoost Regressor on IQ data, using all features\n",
    "iq_model = XGBRegressor()\n",
    "iq_model.fit(iq_features, iq_labels)\n",
    "iq_train_pred = iq_model.predict(iq_features)\n",
    "iq_train_pred = iq_train_pred.astype(int)\n",
    "iq_score = mean_absolute_error(iq_train_pred, iq_labels)\n",
    "iq_score"
   ]
  },
  {
   "cell_type": "code",
   "execution_count": 11,
   "metadata": {
    "collapsed": false,
    "slideshow": {
     "slide_type": "slide"
    }
   },
   "outputs": [
    {
     "data": {
      "text/plain": [
       "array([ 5,  4,  5,  5,  4,  5,  4,  7,  2,  4,  6,  9,  8,  4,  6,  4, 11,\n",
       "        6,  5,  5,  5, 16,  5, 12,  8,  5,  5, 12, 11,  4,  5,  8,  7, 12,\n",
       "        8, 12,  8,  8, 11,  8,  8,  6,  8,  7,  9, 12,  7,  3,  5,  4,  3,\n",
       "        2,  5,  1,  2,  7,  2,  5,  6,  3,  4,  7,  4,  6,  5,  4,  6,  9,\n",
       "       12,  3, 15,  4,  9, 11, 14,  8, 11,  3, 15,  7,  5,  4, 19,  8, 17,\n",
       "        5,  6,  2,  4,  1,  0,  6,  9,  7,  6, 12,  5,  4,  3,  1,  6,  8,\n",
       "        1,  4,  6,  0,  2,  6,  0,  1,  5,  3,  4,  2,  3,  4,  3,  6,  2,\n",
       "        8, 14,  8,  8,  8, 10,  6,  9, 10, 11, 13, 11,  2,  6,  9,  9, 10,\n",
       "        7,  8,  8,  6, 11,  9, 10, 11,  5, 12,  5,  2, 10, 10,  9,  6,  6,\n",
       "        0,  4,  6])"
      ]
     },
     "execution_count": 11,
     "metadata": {},
     "output_type": "execute_result"
    }
   ],
   "source": [
    "#Predict on test features\n",
    "iq_pred = iq_model.predict(iq_test)\n",
    "iq_pred = iq_pred.astype(int)\n",
    "iq_pred"
   ]
  },
  {
   "cell_type": "code",
   "execution_count": 12,
   "metadata": {
    "collapsed": false,
    "slideshow": {
     "slide_type": "slide"
    }
   },
   "outputs": [
    {
     "data": {
      "image/png": "[encoded data removed]",
      "text/plain": [
       "<matplotlib.figure.Figure at 0x103c3f710>"
      ]
     },
     "metadata": {},
     "output_type": "display_data"
    }
   ],
   "source": [
    "#IQ predicted vs actual\n",
    "plt.plot(iq_train_pred, label = 'predicted')\n",
    "plt.plot(iq_labels, label = 'actual')\n",
    "plt.legend(bbox_to_anchor=(1.05, 1), loc=2, borderaxespad=0.)\n",
    "plt.show()"
   ]
  },
  {
   "cell_type": "code",
   "execution_count": 13,
   "metadata": {
    "collapsed": false,
    "slideshow": {
     "slide_type": "slide"
    }
   },
   "outputs": [
    {
     "data": {
      "image/png": "[encoded data removed]",
      "text/plain": [
       "<matplotlib.figure.Figure at 0x108e72358>"
      ]
     },
     "metadata": {},
     "output_type": "display_data"
    }
   ],
   "source": [
    "#SJ predicted vs actual\n",
    "plt.plot(sj_train_pred, label='predicted')\n",
    "plt.plot(sj_labels, label='actual')\n",
    "plt.legend(bbox_to_anchor=(1.05, 1), loc=2, borderaxespad=0.)\n",
    "plt.show()"
   ]
  },
  {
   "cell_type": "code",
   "execution_count": 14,
   "metadata": {
    "collapsed": false,
    "slideshow": {
     "slide_type": "slide"
    }
   },
   "outputs": [],
   "source": [
    "submission = pd.read_csv(\"./submission_format.csv\", index_col=[0, 1, 2])\n",
    "\n",
    "sj_pred = np.asarray(sj_pred)\n",
    "iq_pred = np.asarray(iq_pred)\n",
    "final_pred = np.concatenate((sj_pred, iq_pred), axis = 0)"
   ]
  },
  {
   "cell_type": "code",
   "execution_count": 15,
   "metadata": {
    "collapsed": false,
    "slideshow": {
     "slide_type": "slide"
    }
   },
   "outputs": [],
   "source": [
    "submission.total_cases = final_pred"
   ]
  },
  {
   "cell_type": "code",
   "execution_count": 16,
   "metadata": {
    "collapsed": true,
    "slideshow": {
     "slide_type": "slide"
    }
   },
   "outputs": [],
   "source": [
    "submission.to_csv(\"./benchmark.csv\")"
   ]
  }
 ],
 "metadata": {
  "celltoolbar": "Slideshow",
  "kernelspec": {
   "display_name": "Python 3",
   "language": "python",
   "name": "python3"
  },
  "language_info": {
   "codemirror_mode": {
    "name": "ipython",
    "version": 3
   },
   "file_extension": ".py",
   "mimetype": "text/x-python",
   "name": "python",
   "nbconvert_exporter": "python",
   "pygments_lexer": "ipython3",
   "version": "3.6.0"
  }
 },
 "nbformat": 4,
 "nbformat_minor": 2
}
